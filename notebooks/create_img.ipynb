{
 "cells": [
  {
   "cell_type": "code",
   "metadata": {
    "ExecuteTime": {
     "end_time": "2024-09-25T02:50:16.456831Z",
     "start_time": "2024-09-25T02:50:16.454614Z"
    }
   },
   "source": [
    "import numpy as np\n",
    "import logging\n",
    "import uuid\n",
    "\n",
    "from scrs import Simage\n",
    "from scrs.constants import OUT_DIR"
   ],
   "outputs": [],
   "execution_count": 4
  },
  {
   "cell_type": "code",
   "metadata": {
    "ExecuteTime": {
     "end_time": "2024-09-25T02:50:16.477349Z",
     "start_time": "2024-09-25T02:50:16.466209Z"
    }
   },
   "source": [
    "IMG_SIZE = (9000, 9000)\n",
    "\n",
    "logging.basicConfig()\n",
    "logging.getLogger().setLevel(logging.WARNING)\n",
    "\n",
    "logger = logging.getLogger()"
   ],
   "outputs": [],
   "execution_count": 5
  },
  {
   "cell_type": "code",
   "metadata": {
    "jupyter": {
     "is_executing": true
    },
    "ExecuteTime": {
     "start_time": "2024-09-25T02:50:16.513729Z"
    }
   },
   "source": [
    "NUM_RUNS = 100\n",
    "SAT_LEVEL = 65535\n",
    "READOUT_OFFSET = 0\n",
    "NUM_STARS = 1000\n",
    "MAX_SIGMA = 10\n",
    "ALLOW_SATURATION = True\n",
    "TYPE = \"stars\"\n",
    "\n",
    "# Generate seeds in advance, before setting globally.\n",
    "SEEDS = [np.random.randint(0, 100_000) for _ in range(NUM_RUNS)]\n",
    "\n",
    "for i in range(NUM_RUNS):\n",
    "    file_uuid = uuid.uuid4()\n",
    "\n",
    "    print(f\"Generating {i+1}/{NUM_RUNS}. UUID: {file_uuid}\", end=\"\\r\" if i < NUM_RUNS - 1 else \"\\n\")\n",
    "\n",
    "    rng = np.random.default_rng(SEEDS[i])\n",
    "\n",
    "    img: Simage = Simage().set_rng(rng).set_data(np.zeros(IMG_SIZE, dtype=np.uint16))\n",
    "\n",
    "    if TYPE == \"spectra\":\n",
    "        raise NotImplementedError(\"Spectra not implemented yet.\")\n",
    "        # img.add_spectra(...)\n",
    "    else:\n",
    "        img.add_stars(\n",
    "            num_stars=NUM_STARS,\n",
    "            max_sigma=MAX_SIGMA,\n",
    "            sat_level=SAT_LEVEL,\n",
    "            allow_sat=ALLOW_SATURATION,\n",
    "        )\n",
    "    \n",
    "    (\n",
    "        img\n",
    "        # Enable history, starting with raw star image (no noise or cosmics)\n",
    "        .enable_history(OUT_DIR / \"auto\" / f\"{file_uuid}_raw.fits\")     # idx 2\n",
    "        .add_noise()                                                    # idx 1\n",
    "        .add_cosmics(conversion_factor=0.001)                           # idx 0\n",
    "        .add_to_header(\n",
    "            TYPE=TYPE,\n",
    "            SATLEVEL=SAT_LEVEL,\n",
    "            NUMSTARS=NUM_STARS,\n",
    "            MAXSIG=MAX_SIGMA,\n",
    "            ALLOWSAT=ALLOW_SATURATION,\n",
    "            SEED=SEEDS[i],\n",
    "        )\n",
    "    )"
   ],
   "outputs": [
    {
     "name": "stdout",
     "output_type": "stream",
     "text": [
      "Generating 1/100. UUID: 800d9ec3-1533-4e9d-a615-60faa8a9fc36\r"
     ]
    }
   ],
   "execution_count": null
  }
 ],
 "metadata": {
  "kernelspec": {
   "display_name": ".venv",
   "language": "python",
   "name": "python3"
  },
  "language_info": {
   "codemirror_mode": {
    "name": "ipython",
    "version": 3
   },
   "file_extension": ".py",
   "mimetype": "text/x-python",
   "name": "python",
   "nbconvert_exporter": "python",
   "pygments_lexer": "ipython3",
   "version": "3.12.6"
  }
 },
 "nbformat": 4,
 "nbformat_minor": 2
}
