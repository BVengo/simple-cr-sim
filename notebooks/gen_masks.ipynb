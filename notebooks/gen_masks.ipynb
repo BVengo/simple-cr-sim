{
 "cells": [
  {
   "cell_type": "code",
   "execution_count": 1,
   "metadata": {
    "ExecuteTime": {
     "end_time": "2024-09-25T05:25:06.594149Z",
     "start_time": "2024-09-25T05:25:06.035030Z"
    }
   },
   "outputs": [],
   "source": [
    "import time\n",
    "\n",
    "from astroscrappy import detect_cosmics\n",
    "from lacosmic import lacosmic\n",
    "from PyCosmic import det_cosmics\n",
    "\n",
    "import logging\n",
    "\n",
    "from scrs import Image\n",
    "from scrs.constants import OUT_DIR"
   ]
  },
  {
   "cell_type": "code",
   "execution_count": 2,
   "metadata": {
    "ExecuteTime": {
     "end_time": "2024-09-25T05:25:06.600739Z",
     "start_time": "2024-09-25T05:25:06.598209Z"
    }
   },
   "outputs": [],
   "source": [
    "logging.basicConfig()\n",
    "logging.getLogger().setLevel(logging.WARNING)\n",
    "\n",
    "logger = logging.getLogger()"
   ]
  },
  {
   "cell_type": "code",
   "execution_count": 3,
   "metadata": {
    "ExecuteTime": {
     "end_time": "2024-09-25T05:25:06.695249Z",
     "start_time": "2024-09-25T05:25:06.692329Z"
    }
   },
   "outputs": [],
   "source": [
    "files = list((OUT_DIR / \"auto\" / \"raw\").glob(\"*_raw.fits\"))\n",
    "num_files = len(files)"
   ]
  },
  {
   "cell_type": "code",
   "execution_count": null,
   "metadata": {},
   "outputs": [],
   "source": [
    "for i, file in enumerate(files):\n",
    "    # Run all three algorithms. Note that parameters applied are not optimised,\n",
    "    # but are instead set to align based on the defaults of the three algorithms.\n",
    "\n",
    "    msg = f\"Processing {i+1}/{num_files}: {file.stem}.\"\n",
    "    print(msg, end=\"\\r\")\n",
    "\n",
    "    img = Image().load_fits(file)\n",
    "    mask_file = OUT_DIR / \"auto\" / \"masks\" / file.name.replace(\"raw\", \"mask\")\n",
    "\n",
    "    masks_img = Image().enable_history(mask_file)\n",
    "\n",
    "    data = img.data.astype(float)  # Required for NaN masking used by lacosmic\n",
    "\n",
    "    print(f\"{msg} Algorithm: LA Cosmic\", end=\"\\r\")\n",
    "    t0 = time.time()\n",
    "    lc_clean, lc_mask = lacosmic(\n",
    "        data,\n",
    "        contrast=5,\n",
    "        cr_threshold=4.5,\n",
    "        neighbor_threshold=0.3,\n",
    "        effective_gain=1,\n",
    "        readnoise=2,\n",
    "    )\n",
    "    dur = time.time() - t0\n",
    "    masks_img.set_data(lc_mask.astype(int)).add_to_header(LC_TIME=dur)\n",
    "    del lc_clean, lc_mask\n",
    "\n",
    "    print(f\"{msg} Algorithm: Astroscrappy\", end=\"\\r\")\n",
    "    t0 = time.time()\n",
    "    ac_mask, as_clean = detect_cosmics(data, readnoise=2)\n",
    "    dur = time.time() - t0\n",
    "    masks_img.set_data(ac_mask.astype(int)).add_to_header(AC_TIME=dur)\n",
    "    del as_clean\n",
    "\n",
    "    print(f\"{msg} Algorithm: PyCosmic\", end=\"\\r\" if i < num_files - 1 else \"\\n\")\n",
    "    to = time.time()\n",
    "    pc_img = det_cosmics(data, iterations=4, rdnoise=2)\n",
    "    dur = time.time() - to\n",
    "    masks_img.set_data(pc_img.mask.astype(int)).add_to_header(PC_TIME=dur)\n",
    "    del pc_img"
   ]
  }
 ],
 "metadata": {
  "kernelspec": {
   "display_name": ".venv",
   "language": "python",
   "name": "python3"
  },
  "language_info": {
   "codemirror_mode": {
    "name": "ipython",
    "version": 3
   },
   "file_extension": ".py",
   "mimetype": "text/x-python",
   "name": "python",
   "nbconvert_exporter": "python",
   "pygments_lexer": "ipython3",
   "version": "3.12.6"
  }
 },
 "nbformat": 4,
 "nbformat_minor": 2
}
