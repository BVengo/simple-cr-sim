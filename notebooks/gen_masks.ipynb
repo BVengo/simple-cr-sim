{
 "cells": [
  {
   "cell_type": "code",
   "metadata": {
    "ExecuteTime": {
     "end_time": "2024-09-25T02:09:07.546729Z",
     "start_time": "2024-09-25T02:09:07.542980Z"
    }
   },
   "source": [
    "import time\n",
    "\n",
    "from astroscrappy import detect_cosmics\n",
    "from lacosmic import lacosmic\n",
    "from PyCosmic import det_cosmics\n",
    "\n",
    "import logging\n",
    "\n",
    "from scrs import Image\n",
    "from scrs.constants import OUT_DIR"
   ],
   "outputs": [],
   "execution_count": 13
  },
  {
   "metadata": {},
   "cell_type": "code",
   "outputs": [],
   "execution_count": null,
   "source": [
    "logging.basicConfig()\n",
    "logging.getLogger().setLevel(logging.WARNING)\n",
    "\n",
    "logger = logging.getLogger()"
   ]
  },
  {
   "cell_type": "code",
   "metadata": {
    "ExecuteTime": {
     "end_time": "2024-09-25T02:09:07.603425Z",
     "start_time": "2024-09-25T02:09:07.597335Z"
    }
   },
   "source": [
    "files = list((OUT_DIR / \"auto\").glob(\"*_raw.fits\"))\n",
    "num_files = len(files)"
   ],
   "outputs": [],
   "execution_count": 14
  },
  {
   "metadata": {
    "ExecuteTime": {
     "end_time": "2024-09-25T02:21:53.972537Z",
     "start_time": "2024-09-25T02:21:53.969090Z"
    }
   },
   "cell_type": "code",
   "source": [
    "i = 0\n",
    "file = files[i]\n",
    "\n",
    "print(file)"
   ],
   "outputs": [
    {
     "name": "stdout",
     "output_type": "stream",
     "text": [
      "/home/ben/projects/simple-cr-sim/out/auto/a5aec506-8401-48d5-b70e-b8239db83a43_raw.fits\n"
     ]
    }
   ],
   "execution_count": 17
  },
  {
   "cell_type": "code",
   "metadata": {
    "ExecuteTime": {
     "end_time": "2024-09-25T02:21:21.411840Z",
     "start_time": "2024-09-25T02:19:41.812494Z"
    }
   },
   "source": [
    "for i, file in enumerate(files):\n",
    "    # Run all three algorithms. Note that parameters applied are not optimised,\n",
    "    # but are instead set to align based on the defaults of the three algorithms.\n",
    "    \n",
    "    msg = f\"Processing {i+1}/{num_files}: {file.stem}.\"\n",
    "    print(msg, end=\"\\r\")\n",
    "\n",
    "    img = Image().load_fits(file)\n",
    "    mask_file = OUT_DIR / \"masks\" / file.name.replace(\"raw\", \"mask\")\n",
    "    \n",
    "    masks_img = Image().enable_history(mask_file)\n",
    "\n",
    "    print(f\"{msg} Algorithm: LA Cosmic\", end=\"\\r\")\n",
    "    t0 = time.time()\n",
    "    lc_clean, lc_mask = lacosmic(\n",
    "        img.data,\n",
    "        contrast=5,\n",
    "        cr_threshold=4.5,\n",
    "        neighbor_threshold=0.3,\n",
    "        effective_gain=1,\n",
    "        readnoise=2,\n",
    "    )\n",
    "    dur = time.time() - t0\n",
    "    masks_img.set_data(lc_mask.astype(int)).add_to_header(\"LC_TIME\", dur)\n",
    "    del lc_clean, lc_mask\n",
    "\n",
    "    print(f\"{msg} Algorithm: Astroscrappy\", end=\"\\r\")\n",
    "    t0 = time.time()\n",
    "    ac_mask, as_clean = detect_cosmics(img.data, readnoise=2)\n",
    "    dur = time.time() - t0\n",
    "    masks_img.set_data(ac_mask.astype(int)).add_to_header(\"AC_TIME\", dur)\n",
    "    del as_clean\n",
    "\n",
    "    print(f\"{msg} Algorithm: PyCosmic\", end=\"\\r\" if i < num_files - 1 else \"\\n\")\n",
    "    to = time.time()\n",
    "    pc_img = det_cosmics(img.data, iterations=4, rdnoise=2)\n",
    "    dur = time.time() - to\n",
    "    masks_img.set_data(pc_img.mask.astype(int)).add_to_header(\"PC_TIME\", dur)\n",
    "    del pc_img"
   ],
   "outputs": [
    {
     "name": "stdout",
     "output_type": "stream",
     "text": [
      "INFO: Iteration 1: Found 431652 cosmic-ray pixels, Total: 431652 [lacosmic.core]\n"
     ]
    },
    {
     "ename": "ValueError",
     "evalue": "cannot convert float NaN to integer",
     "output_type": "error",
     "traceback": [
      "\u001B[0;31m---------------------------------------------------------------------------\u001B[0m",
      "\u001B[0;31mValueError\u001B[0m                                Traceback (most recent call last)",
      "Cell \u001B[0;32mIn[16], line 15\u001B[0m\n\u001B[1;32m     13\u001B[0m \u001B[38;5;28mprint\u001B[39m(\u001B[38;5;124mf\u001B[39m\u001B[38;5;124m\"\u001B[39m\u001B[38;5;132;01m{\u001B[39;00mmsg\u001B[38;5;132;01m}\u001B[39;00m\u001B[38;5;124m Algorithm: LA Cosmic\u001B[39m\u001B[38;5;124m\"\u001B[39m, end\u001B[38;5;241m=\u001B[39m\u001B[38;5;124m\"\u001B[39m\u001B[38;5;130;01m\\r\u001B[39;00m\u001B[38;5;124m\"\u001B[39m)\n\u001B[1;32m     14\u001B[0m t0 \u001B[38;5;241m=\u001B[39m time\u001B[38;5;241m.\u001B[39mtime()\n\u001B[0;32m---> 15\u001B[0m lc_clean, lc_mask \u001B[38;5;241m=\u001B[39m \u001B[43mlacosmic\u001B[49m\u001B[43m(\u001B[49m\n\u001B[1;32m     16\u001B[0m \u001B[43m    \u001B[49m\u001B[43mimg\u001B[49m\u001B[38;5;241;43m.\u001B[39;49m\u001B[43mdata\u001B[49m\u001B[43m,\u001B[49m\n\u001B[1;32m     17\u001B[0m \u001B[43m    \u001B[49m\u001B[43mcontrast\u001B[49m\u001B[38;5;241;43m=\u001B[39;49m\u001B[38;5;241;43m5\u001B[39;49m\u001B[43m,\u001B[49m\n\u001B[1;32m     18\u001B[0m \u001B[43m    \u001B[49m\u001B[43mcr_threshold\u001B[49m\u001B[38;5;241;43m=\u001B[39;49m\u001B[38;5;241;43m4.5\u001B[39;49m\u001B[43m,\u001B[49m\n\u001B[1;32m     19\u001B[0m \u001B[43m    \u001B[49m\u001B[43mneighbor_threshold\u001B[49m\u001B[38;5;241;43m=\u001B[39;49m\u001B[38;5;241;43m0.3\u001B[39;49m\u001B[43m,\u001B[49m\n\u001B[1;32m     20\u001B[0m \u001B[43m    \u001B[49m\u001B[43meffective_gain\u001B[49m\u001B[38;5;241;43m=\u001B[39;49m\u001B[38;5;241;43m1\u001B[39;49m\u001B[43m,\u001B[49m\n\u001B[1;32m     21\u001B[0m \u001B[43m    \u001B[49m\u001B[43mreadnoise\u001B[49m\u001B[38;5;241;43m=\u001B[39;49m\u001B[38;5;241;43m1000\u001B[39;49m\u001B[43m,\u001B[49m\n\u001B[1;32m     22\u001B[0m \u001B[43m\u001B[49m\u001B[43m)\u001B[49m\n\u001B[1;32m     23\u001B[0m dur \u001B[38;5;241m=\u001B[39m time\u001B[38;5;241m.\u001B[39mtime() \u001B[38;5;241m-\u001B[39m t0\n\u001B[1;32m     24\u001B[0m masks_img\u001B[38;5;241m.\u001B[39mset_data(lc_mask\u001B[38;5;241m.\u001B[39mastype(\u001B[38;5;28mint\u001B[39m))\u001B[38;5;241m.\u001B[39madd_to_header(\u001B[38;5;124m\"\u001B[39m\u001B[38;5;124mLC_TIME\u001B[39m\u001B[38;5;124m\"\u001B[39m, dur)\n",
      "File \u001B[0;32m~/projects/simple-cr-sim/.venv/lib/python3.12/site-packages/lacosmic/core.py:182\u001B[0m, in \u001B[0;36mlacosmic\u001B[0;34m(data, contrast, cr_threshold, neighbor_threshold, error, mask, background, effective_gain, readnoise, maxiter, border_mode)\u001B[0m\n\u001B[1;32m    180\u001B[0m             clean_data \u001B[38;5;241m-\u001B[39m\u001B[38;5;241m=\u001B[39m background\n\u001B[1;32m    181\u001B[0m         \u001B[38;5;28;01mreturn\u001B[39;00m clean_data, final_crmask\n\u001B[0;32m--> 182\u001B[0m     clean_data \u001B[38;5;241m=\u001B[39m \u001B[43m_clean_masked_pixels\u001B[49m\u001B[43m(\u001B[49m\u001B[43mclean_data\u001B[49m\u001B[43m,\u001B[49m\u001B[43m \u001B[49m\u001B[43mfinal_crmask\u001B[49m\u001B[43m,\u001B[49m\u001B[43m \u001B[49m\u001B[43msize\u001B[49m\u001B[38;5;241;43m=\u001B[39;49m\u001B[38;5;241;43m5\u001B[39;49m\u001B[43m,\u001B[49m\n\u001B[1;32m    183\u001B[0m \u001B[43m                                      \u001B[49m\u001B[43mexclude_mask\u001B[49m\u001B[38;5;241;43m=\u001B[39;49m\u001B[43mmask\u001B[49m\u001B[43m)\u001B[49m\n\u001B[1;32m    185\u001B[0m \u001B[38;5;28;01mif\u001B[39;00m background \u001B[38;5;129;01mis\u001B[39;00m \u001B[38;5;129;01mnot\u001B[39;00m \u001B[38;5;28;01mNone\u001B[39;00m:\n\u001B[1;32m    186\u001B[0m     clean_data \u001B[38;5;241m-\u001B[39m\u001B[38;5;241m=\u001B[39m background\n",
      "File \u001B[0;32m~/projects/simple-cr-sim/.venv/lib/python3.12/site-packages/lacosmic/core.py:214\u001B[0m, in \u001B[0;36m_clean_masked_pixels\u001B[0;34m(data, mask, size, exclude_mask)\u001B[0m\n\u001B[1;32m    212\u001B[0m mask_idx \u001B[38;5;241m=\u001B[39m maskall\u001B[38;5;241m.\u001B[39mnonzero()\n\u001B[1;32m    213\u001B[0m data_nanmask \u001B[38;5;241m=\u001B[39m data\u001B[38;5;241m.\u001B[39mcopy()\n\u001B[0;32m--> 214\u001B[0m \u001B[43mdata_nanmask\u001B[49m\u001B[43m[\u001B[49m\u001B[43mmask_idx\u001B[49m\u001B[43m]\u001B[49m \u001B[38;5;241m=\u001B[39m np\u001B[38;5;241m.\u001B[39mnan\n\u001B[1;32m    216\u001B[0m nexpanded \u001B[38;5;241m=\u001B[39m \u001B[38;5;241m0\u001B[39m\n\u001B[1;32m    217\u001B[0m \u001B[38;5;28;01mfor\u001B[39;00m coord \u001B[38;5;129;01min\u001B[39;00m mask_coords:\n",
      "\u001B[0;31mValueError\u001B[0m: cannot convert float NaN to integer"
     ]
    }
   ],
   "execution_count": 16
  }
 ],
 "metadata": {
  "kernelspec": {
   "display_name": ".venv",
   "language": "python",
   "name": "python3"
  },
  "language_info": {
   "codemirror_mode": {
    "name": "ipython",
    "version": 3
   },
   "file_extension": ".py",
   "mimetype": "text/x-python",
   "name": "python",
   "nbconvert_exporter": "python",
   "pygments_lexer": "ipython3",
   "version": "3.12.6"
  }
 },
 "nbformat": 4,
 "nbformat_minor": 2
}
