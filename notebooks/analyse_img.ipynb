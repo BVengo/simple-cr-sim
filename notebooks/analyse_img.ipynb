{
 "cells": [
  {
   "cell_type": "markdown",
   "metadata": {},
   "source": [
    "# Analyse Image\n",
    "Code used to analyse the data produced by the simulation and the algorithm masks."
   ]
  },
  {
   "cell_type": "code",
   "execution_count": 1,
   "metadata": {
    "ExecuteTime": {
     "end_time": "2024-09-26T04:54:22.601681Z",
     "start_time": "2024-09-26T04:54:21.934963Z"
    }
   },
   "outputs": [],
   "source": [
    "import numpy as np\n",
    "import polars as pl\n",
    "import logging\n",
    "\n",
    "from scrs.constants import OUT_DIR\n",
    "from scrs import Image"
   ]
  },
  {
   "cell_type": "code",
   "execution_count": 2,
   "metadata": {
    "ExecuteTime": {
     "end_time": "2024-09-26T04:54:22.617903Z",
     "start_time": "2024-09-26T04:54:22.611850Z"
    }
   },
   "outputs": [],
   "source": [
    "logging.basicConfig()\n",
    "logging.getLogger().setLevel(logging.INFO)\n",
    "\n",
    "logging.basicConfig()\n",
    "logging.getLogger().setLevel(logging.WARNING)\n",
    "\n",
    "logger = logging.getLogger()"
   ]
  },
  {
   "cell_type": "markdown",
   "metadata": {},
   "source": [
    "## Summaries\n",
    "Read through all the files and extract:\n",
    "- the cosmic ray counts\n",
    "- the time taken to run"
   ]
  },
  {
   "cell_type": "code",
   "execution_count": 3,
   "metadata": {},
   "outputs": [],
   "source": [
    "files = list((OUT_DIR / \"auto\" / \"raw\").glob(\"*_raw.fits\"))\n",
    "uuids = [f.stem.split(\"_\")[0] for f in files]\n",
    "\n",
    "del files"
   ]
  },
  {
   "cell_type": "code",
   "execution_count": 4,
   "metadata": {
    "ExecuteTime": {
     "end_time": "2024-09-26T05:18:36.647631Z",
     "start_time": "2024-09-26T05:18:36.644704Z"
    }
   },
   "outputs": [
    {
     "data": {
      "text/html": [
       "<div><style>\n",
       ".dataframe > thead > tr,\n",
       ".dataframe > tbody > tr {\n",
       "  text-align: right;\n",
       "  white-space: pre-wrap;\n",
       "}\n",
       "</style>\n",
       "<small>shape: (32, 5)</small><table border=\"1\" class=\"dataframe\"><thead><tr><th>true</th><th>lc</th><th>ac</th><th>pc</th><th>in_star</th></tr><tr><td>bool</td><td>bool</td><td>bool</td><td>bool</td><td>bool</td></tr></thead><tbody><tr><td>false</td><td>false</td><td>false</td><td>false</td><td>false</td></tr><tr><td>true</td><td>false</td><td>false</td><td>false</td><td>false</td></tr><tr><td>false</td><td>true</td><td>false</td><td>false</td><td>false</td></tr><tr><td>true</td><td>true</td><td>false</td><td>false</td><td>false</td></tr><tr><td>false</td><td>false</td><td>true</td><td>false</td><td>false</td></tr><tr><td>&hellip;</td><td>&hellip;</td><td>&hellip;</td><td>&hellip;</td><td>&hellip;</td></tr><tr><td>true</td><td>true</td><td>false</td><td>true</td><td>true</td></tr><tr><td>false</td><td>false</td><td>true</td><td>true</td><td>true</td></tr><tr><td>true</td><td>false</td><td>true</td><td>true</td><td>true</td></tr><tr><td>false</td><td>true</td><td>true</td><td>true</td><td>true</td></tr><tr><td>true</td><td>true</td><td>true</td><td>true</td><td>true</td></tr></tbody></table></div>"
      ],
      "text/plain": [
       "shape: (32, 5)\n",
       "┌───────┬───────┬───────┬───────┬─────────┐\n",
       "│ true  ┆ lc    ┆ ac    ┆ pc    ┆ in_star │\n",
       "│ ---   ┆ ---   ┆ ---   ┆ ---   ┆ ---     │\n",
       "│ bool  ┆ bool  ┆ bool  ┆ bool  ┆ bool    │\n",
       "╞═══════╪═══════╪═══════╪═══════╪═════════╡\n",
       "│ false ┆ false ┆ false ┆ false ┆ false   │\n",
       "│ true  ┆ false ┆ false ┆ false ┆ false   │\n",
       "│ false ┆ true  ┆ false ┆ false ┆ false   │\n",
       "│ true  ┆ true  ┆ false ┆ false ┆ false   │\n",
       "│ false ┆ false ┆ true  ┆ false ┆ false   │\n",
       "│ …     ┆ …     ┆ …     ┆ …     ┆ …       │\n",
       "│ true  ┆ true  ┆ false ┆ true  ┆ true    │\n",
       "│ false ┆ false ┆ true  ┆ true  ┆ true    │\n",
       "│ true  ┆ false ┆ true  ┆ true  ┆ true    │\n",
       "│ false ┆ true  ┆ true  ┆ true  ┆ true    │\n",
       "│ true  ┆ true  ┆ true  ┆ true  ┆ true    │\n",
       "└───────┴───────┴───────┴───────┴─────────┘"
      ]
     },
     "execution_count": 4,
     "metadata": {},
     "output_type": "execute_result"
    }
   ],
   "source": [
    "# CR Counts DataFrame\n",
    "data = {k: [] for k in [\"true\", \"lc\", \"ac\", \"pc\", \"in_star\"]}\n",
    "\n",
    "# Generate truth table for all possible combinations of classification\n",
    "for i in range(2**5):\n",
    "    combination = (bool(i & (1 << bit)) for bit in range(5))\n",
    "    for key, value in zip(data.keys(), combination):\n",
    "        data[key].append(value)\n",
    "\n",
    "cr_counts = pl.DataFrame(data)\n",
    "cr_counts"
   ]
  },
  {
   "cell_type": "code",
   "execution_count": 5,
   "metadata": {},
   "outputs": [],
   "source": [
    "time_rows = []\n",
    "counts = [0] * 32\n",
    "\n",
    "for uuid in uuids:\n",
    "    \"\"\"\n",
    "    Classify all pixels in the image as true, lc, ac, pc, in_star\n",
    "    \"\"\"\n",
    "    img = Image().load_fits(OUT_DIR / \"auto\" / \"raw\" / f\"{uuid}_raw.fits\")\n",
    "    cosmics = img.get_diff(0, 1).data\n",
    "    true_mask = (cosmics > 0).astype(bool)\n",
    "\n",
    "    star_mask = (img.get_snapshot(idx=2).data > 0).astype(bool)\n",
    "\n",
    "    masks = Image().load_fits(OUT_DIR / \"auto\" / \"masks\" / f\"{uuid}_mask.fits\")\n",
    "    hdu = masks.get_header()\n",
    "\n",
    "    # Times\n",
    "    # Append algorithm, time, uuid to the times dataframe\n",
    "    for algorithm in [\"LC\", \"AC\", \"PC\"]:\n",
    "        time_rows.append((algorithm, hdu[f\"{algorithm}_TIME\"], uuid))\n",
    "\n",
    "    # CR Counts\n",
    "    pc_mask = masks.data.astype(bool)  # Last one run\n",
    "    ac_mask = masks.get_snapshot(idx=1).data.astype(bool)\n",
    "    lc_mask = masks.get_snapshot(idx=2).data.astype(bool)\n",
    "\n",
    "    def count_pixels(\n",
    "        true: bool | None = None,\n",
    "        lc: bool | None = None,\n",
    "        ac: bool | None = None,\n",
    "        pc: bool | None = None,\n",
    "        in_star: bool | None = None,\n",
    "    ):\n",
    "        masks = []\n",
    "        if true is not None:\n",
    "            masks.append(true_mask if true else ~true_mask)\n",
    "        if lc is not None:\n",
    "            masks.append(lc_mask if lc else ~lc_mask)\n",
    "        if ac is not None:\n",
    "            masks.append(ac_mask if ac else ~ac_mask)\n",
    "        if pc is not None:\n",
    "            masks.append(pc_mask if pc else ~pc_mask)\n",
    "        if in_star is not None:\n",
    "            masks.append(star_mask if in_star else ~star_mask)\n",
    "\n",
    "        mask = np.logical_and.reduce(masks)\n",
    "\n",
    "        return mask.sum()\n",
    "    \n",
    "    # Count all pixels for each combination, and add the count to the corresponding row in the dataframe\n",
    "    for i, mask_filters in enumerate(cr_counts.iter_rows()):\n",
    "        counts[i] += count_pixels(*mask_filters)\n",
    "\n",
    "cr_counts = cr_counts.with_columns(pl.Series(\"count\", counts))"
   ]
  },
  {
   "cell_type": "code",
   "execution_count": 6,
   "metadata": {},
   "outputs": [],
   "source": [
    "times = pl.DataFrame(time_rows, schema={\n",
    "    \"algorithm\": pl.String,\n",
    "    \"time\": pl.Float64,\n",
    "    \"uuid\": pl.String\n",
    "}, orient=\"row\")"
   ]
  },
  {
   "cell_type": "code",
   "execution_count": 7,
   "metadata": {},
   "outputs": [],
   "source": [
    "# Remove times greater than 2x the mean time, per algorithm. This is a very simple outlier removal method\n",
    "# to handle runs impacted by the computer going on standby. Works for the data used, but not a\n",
    "# robust general solution.\n",
    "for algorithm in [\"LC\", \"AC\", \"PC\"]:\n",
    "    mean_time = times.filter(pl.col(\"algorithm\") == algorithm).get_column(\"time\").mean()\n",
    "    times = times.filter((pl.col(\"algorithm\") != algorithm) | (pl.col(\"time\") < 2 * mean_time))"
   ]
  },
  {
   "cell_type": "code",
   "execution_count": 8,
   "metadata": {},
   "outputs": [
    {
     "name": "stdout",
     "output_type": "stream",
     "text": [
      "shape: (3, 6)\n",
      "┌───────────┬────────────┬────────────┬────────────┬────────────┬──────────┐\n",
      "│ algorithm ┆ mean (s)   ┆ median (s) ┆ min (s)    ┆ max (s)    ┆ std (s)  │\n",
      "│ ---       ┆ ---        ┆ ---        ┆ ---        ┆ ---        ┆ ---      │\n",
      "│ str       ┆ f64        ┆ f64        ┆ f64        ┆ f64        ┆ f64      │\n",
      "╞═══════════╪════════════╪════════════╪════════════╪════════════╪══════════╡\n",
      "│ AC        ┆ 19.32206   ┆ 18.988345  ┆ 18.39003   ┆ 24.833258  ┆ 1.065687 │\n",
      "│ LC        ┆ 392.010937 ┆ 389.922271 ┆ 289.025348 ┆ 437.775087 ┆ 13.89121 │\n",
      "│ PC        ┆ 277.859821 ┆ 275.819996 ┆ 273.054406 ┆ 302.451914 ┆ 5.951867 │\n",
      "└───────────┴────────────┴────────────┴────────────┴────────────┴──────────┘\n"
     ]
    }
   ],
   "source": [
    "\"\"\"\n",
    "Get the time statistics for each algorithm\n",
    "\"\"\"\n",
    "orders = [\"LC\", \"AC\", \"PC\"]\n",
    "\n",
    "times_summary = times.group_by(\"algorithm\").agg(\n",
    "    pl.col(\"time\").mean().alias(\"mean (s)\"),\n",
    "    pl.col(\"time\").median().alias(\"median (s)\"),\n",
    "    pl.col(\"time\").min().alias(\"min (s)\"),\n",
    "    pl.col(\"time\").max().alias(\"max (s)\"),\n",
    "    pl.col(\"time\").std().alias(\"std (s)\"),\n",
    ")\n",
    "\n",
    "print(times_summary)"
   ]
  },
  {
   "cell_type": "code",
   "execution_count": 9,
   "metadata": {},
   "outputs": [],
   "source": [
    "\"\"\"\n",
    "Calculate the accuracy, precision, recall, specificity, F1 score, and IoU for each.\n",
    "Includes the total, in_star, and out_star metrics since being near a star will likely impact the\n",
    "CR detection performance.\n",
    "\"\"\"\n",
    "\n",
    "def get_metrics(in_star: bool | None = None):\n",
    "    metrics = []\n",
    "    for alg in [\"lc\", \"pc\", \"ac\"]:\n",
    "        # Apply the star filtering if applicable. If missing, `& True` will have no effect.\n",
    "        star_filter = (pl.col(\"in_star\") == in_star) if (in_star is not None) else True\n",
    "\n",
    "        tp = cr_counts.filter(pl.col(alg) & pl.col(\"true\") & star_filter).get_column(\"count\").sum()\n",
    "        tn = cr_counts.filter(~pl.col(alg) & ~pl.col(\"true\") & star_filter).get_column(\"count\").sum()\n",
    "        fp = cr_counts.filter(pl.col(alg) & ~pl.col(\"true\") & star_filter).get_column(\"count\").sum()\n",
    "        fn = cr_counts.filter(~pl.col(alg) & pl.col(\"true\") & star_filter).get_column(\"count\").sum()\n",
    "\n",
    "        accuracy = (tp + tn) / (tp + tn + fp + fn)\n",
    "        precision = tp / (tp + fp)\n",
    "        recall = tp / (tp + fn)\n",
    "        specificity = tn / (tn + fp)\n",
    "        f1 = 2 * (precision * recall) / (precision + recall)\n",
    "        iou = tp / (tp + fp + fn)\n",
    "\n",
    "        metrics.append({\n",
    "            \"algorithm\": alg.upper(),\n",
    "            \"accuracy\": accuracy,\n",
    "            \"precision\": precision,\n",
    "            \"recall\": recall,\n",
    "            \"specificity\": specificity,\n",
    "            \"f1\": f1,\n",
    "            \"iou\": iou\n",
    "        })\n",
    "\n",
    "    return pl.DataFrame(metrics)\n",
    "\n",
    "\n",
    "total_metrics = get_metrics()\n",
    "in_star_metrics = get_metrics(in_star=True)\n",
    "out_star_metrics = get_metrics(in_star=False)"
   ]
  },
  {
   "cell_type": "code",
   "execution_count": 10,
   "metadata": {
    "ExecuteTime": {
     "end_time": "2024-09-26T05:27:06.139261Z",
     "start_time": "2024-09-26T05:27:06.132583Z"
    }
   },
   "outputs": [],
   "source": [
    "cr_counts.write_csv(OUT_DIR / \"auto\" / \"cr_counts.csv\")\n",
    "times.write_csv(OUT_DIR / \"auto\" / \"times.csv\")\n",
    "times_summary.write_csv(OUT_DIR / \"auto\" / \"times_summary.csv\")\n",
    "total_metrics.write_csv(OUT_DIR / \"auto\" / \"total_metrics.csv\")\n",
    "in_star_metrics.write_csv(OUT_DIR / \"auto\" / \"in_star_metrics.csv\")\n",
    "out_star_metrics.write_csv(OUT_DIR / \"auto\" / \"out_star_metrics.csv\")"
   ]
  },
  {
   "cell_type": "markdown",
   "metadata": {},
   "source": [
    "## Reading metrics for analysis\n",
    "Use the CSV files from the previous section.\n",
    "\n",
    "Performance benchmarks are listed as:\n",
    "- Accuracy: The proportion of true results (both true positives and true negatives) among the total number of cases examined.\n",
    "- Precision: The proportion of true positives among all positive results.\n",
    "- Recall: The proportion of true positives among all actual positives.\n",
    "- Specificity: The proportion of true negatives among all actual negatives.\n",
    "- F1: The harmonic mean of precision and recall.\n",
    "- IoU: The intersection over union, the proportion of the intersection of the true and predicted CR masks among the union of the two.\n",
    "\n",
    "Time benchmarks are listed as:\n",
    "- mean, median, min, max, std"
   ]
  },
  {
   "cell_type": "code",
   "execution_count": 11,
   "metadata": {
    "ExecuteTime": {
     "end_time": "2024-09-26T05:30:20.738418Z",
     "start_time": "2024-09-26T05:30:20.733790Z"
    }
   },
   "outputs": [],
   "source": [
    "cr_counts = pl.read_csv(OUT_DIR / \"auto\" / \"cr_counts.csv\")\n",
    "times_summary = pl.read_csv(OUT_DIR / \"auto\" / \"times_summary.csv\")\n",
    "total_metrics = pl.read_csv(OUT_DIR / \"auto\" / \"total_metrics.csv\")\n",
    "in_star_metrics = pl.read_csv(OUT_DIR / \"auto\" / \"in_star_metrics.csv\")\n",
    "out_star_metrics = pl.read_csv(OUT_DIR / \"auto\" / \"out_star_metrics.csv\")"
   ]
  },
  {
   "cell_type": "code",
   "execution_count": 12,
   "metadata": {},
   "outputs": [
    {
     "name": "stdout",
     "output_type": "stream",
     "text": [
      "Performance metrics:\n",
      " shape: (3, 7)\n",
      "┌───────────┬──────────┬───────────┬──────────┬─────────────┬──────────┬──────────┐\n",
      "│ algorithm ┆ accuracy ┆ precision ┆ recall   ┆ specificity ┆ f1       ┆ iou      │\n",
      "│ ---       ┆ ---      ┆ ---       ┆ ---      ┆ ---         ┆ ---      ┆ ---      │\n",
      "│ str       ┆ f64      ┆ f64       ┆ f64      ┆ f64         ┆ f64      ┆ f64      │\n",
      "╞═══════════╪══════════╪═══════════╪══════════╪═════════════╪══════════╪══════════╡\n",
      "│ LC        ┆ 0.999991 ┆ 0.992149  ┆ 0.994594 ┆ 0.999995    ┆ 0.99337  ┆ 0.986827 │\n",
      "│ PC        ┆ 0.999866 ┆ 0.999981  ┆ 0.796161 ┆ 1.0         ┆ 0.886507 ┆ 0.79615  │\n",
      "│ AC        ┆ 0.999996 ┆ 0.997298  ┆ 0.996366 ┆ 0.999998    ┆ 0.996831 ┆ 0.993683 │\n",
      "└───────────┴──────────┴───────────┴──────────┴─────────────┴──────────┴──────────┘ \n",
      "(in star):\n",
      " shape: (3, 7)\n",
      "┌───────────┬──────────┬───────────┬──────────┬─────────────┬──────────┬──────────┐\n",
      "│ algorithm ┆ accuracy ┆ precision ┆ recall   ┆ specificity ┆ f1       ┆ iou      │\n",
      "│ ---       ┆ ---      ┆ ---       ┆ ---      ┆ ---         ┆ ---      ┆ ---      │\n",
      "│ str       ┆ f64      ┆ f64       ┆ f64      ┆ f64         ┆ f64      ┆ f64      │\n",
      "╞═══════════╪══════════╪═══════════╪══════════╪═════════════╪══════════╪══════════╡\n",
      "│ LC        ┆ 0.999711 ┆ 0.755257  ┆ 0.830815 ┆ 0.999822    ┆ 0.791236 ┆ 0.654583 │\n",
      "│ PC        ┆ 0.999706 ┆ 0.999063  ┆ 0.553723 ┆ 1.0         ┆ 0.712531 ┆ 0.553435 │\n",
      "│ AC        ┆ 0.999896 ┆ 0.909907  ┆ 0.935494 ┆ 0.999939    ┆ 0.922523 ┆ 0.856188 │\n",
      "└───────────┴──────────┴───────────┴──────────┴─────────────┴──────────┴──────────┘ \n",
      "(out start):\n",
      " shape: (3, 7)\n",
      "┌───────────┬──────────┬───────────┬──────────┬─────────────┬──────────┬──────────┐\n",
      "│ algorithm ┆ accuracy ┆ precision ┆ recall   ┆ specificity ┆ f1       ┆ iou      │\n",
      "│ ---       ┆ ---      ┆ ---       ┆ ---      ┆ ---         ┆ ---      ┆ ---      │\n",
      "│ str       ┆ f64      ┆ f64       ┆ f64      ┆ f64         ┆ f64      ┆ f64      │\n",
      "╞═══════════╪══════════╪═══════════╪══════════╪═════════════╪══════════╪══════════╡\n",
      "│ LC        ┆ 1.0      ┆ 0.999883  ┆ 0.999453 ┆ 1.0         ┆ 0.999668 ┆ 0.999337 │\n",
      "│ PC        ┆ 0.99987  ┆ 1.0       ┆ 0.803354 ┆ 1.0         ┆ 0.890956 ┆ 0.803354 │\n",
      "│ AC        ┆ 0.999999 ┆ 0.999968  ┆ 0.998172 ┆ 1.0         ┆ 0.999069 ┆ 0.99814  │\n",
      "└───────────┴──────────┴───────────┴──────────┴─────────────┴──────────┴──────────┘\n"
     ]
    }
   ],
   "source": [
    "print(\n",
    "    \"Performance metrics:\\n\", total_metrics, \n",
    "    \"\\n(in star):\\n\", in_star_metrics,\n",
    "    \"\\n(out start):\\n\", out_star_metrics\n",
    ")"
   ]
  }
 ],
 "metadata": {
  "kernelspec": {
   "display_name": ".venv",
   "language": "python",
   "name": "python3"
  },
  "language_info": {
   "codemirror_mode": {
    "name": "ipython",
    "version": 3
   },
   "file_extension": ".py",
   "mimetype": "text/x-python",
   "name": "python",
   "nbconvert_exporter": "python",
   "pygments_lexer": "ipython3",
   "version": "3.12.2"
  }
 },
 "nbformat": 4,
 "nbformat_minor": 2
}
